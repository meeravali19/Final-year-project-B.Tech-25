{
 "cells": [
  {
   "cell_type": "code",
   "execution_count": 1,
   "id": "1b894eec-5244-408e-963f-92d8012cf890",
   "metadata": {},
   "outputs": [],
   "source": [
    "import pandas as pd\n",
    "import numpy as np\n",
    "from sklearn.preprocessing import MinMaxScaler\n",
    "from tensorflow.keras.models import Model\n",
    "from tensorflow.keras.layers import Input, Dense\n",
    "from tensorflow.keras.optimizers import Adam"
   ]
  },
  {
   "cell_type": "code",
   "execution_count": 2,
   "id": "f5898358-cac5-4b71-b792-c5993946019b",
   "metadata": {},
   "outputs": [],
   "source": [
    "df = pd.read_csv(\"final_benign_dataset.csv\")  # replace with your filename\n",
    "original_rows = df.shape[0]"
   ]
  },
  {
   "cell_type": "code",
   "execution_count": 4,
   "id": "7657770f-d82f-437e-aecf-281f468a4abc",
   "metadata": {},
   "outputs": [
    {
     "data": {
      "text/plain": [
       "27519"
      ]
     },
     "execution_count": 4,
     "metadata": {},
     "output_type": "execute_result"
    }
   ],
   "source": [
    "original_rows"
   ]
  },
  {
   "cell_type": "code",
   "execution_count": 9,
   "id": "737c9bf5-f9fa-4343-bac6-99e9565b7208",
   "metadata": {},
   "outputs": [],
   "source": [
    "label_column = 'Label'  # Change this to your actual column name\n",
    "features_df = df.drop(columns=[label_column])\n",
    "labels = df[label_column]\n",
    "\n",
    "# Ensure only numeric columns go into autoencoder\n",
    "numeric_features = features_df.select_dtypes(include=[np.number])\n",
    "numeric_features.replace([np.inf, -np.inf], np.nan, inplace=True)\n",
    "numeric_features.dropna(inplace=True)\n",
    "labels = labels.loc[numeric_features.index]\n",
    "non_numeric_features = features_df.select_dtypes(exclude=[np.number])"
   ]
  },
  {
   "cell_type": "code",
   "execution_count": 10,
   "id": "63ee0d0b-41ff-4c7c-bc52-a994235d77a7",
   "metadata": {},
   "outputs": [],
   "source": [
    "scaler = MinMaxScaler()\n",
    "data_scaled = scaler.fit_transform(numeric_features)"
   ]
  },
  {
   "cell_type": "code",
   "execution_count": 11,
   "id": "179c685c-1590-484c-a213-99e499de328f",
   "metadata": {},
   "outputs": [],
   "source": [
    "input_dim = data_scaled.shape[1]\n",
    "encoding_dim = input_dim // 2"
   ]
  },
  {
   "cell_type": "code",
   "execution_count": 12,
   "id": "79078d1d-8283-4c36-85ef-4ef0b11348cc",
   "metadata": {},
   "outputs": [],
   "source": [
    "input_layer = Input(shape=(input_dim,))\n",
    "encoded = Dense(encoding_dim, activation='relu')(input_layer)\n",
    "decoded = Dense(input_dim, activation='sigmoid')(encoded)"
   ]
  },
  {
   "cell_type": "code",
   "execution_count": 13,
   "id": "1d16d048-493e-451b-ba44-8994bdeccd74",
   "metadata": {},
   "outputs": [],
   "source": [
    "autoencoder = Model(inputs=input_layer, outputs=decoded)\n",
    "encoder = Model(inputs=input_layer, outputs=encoded)"
   ]
  },
  {
   "cell_type": "code",
   "execution_count": 14,
   "id": "82f4f63c-1d18-4cf1-9943-e4fd792a0a0d",
   "metadata": {},
   "outputs": [],
   "source": [
    "autoencoder.compile(optimizer=Adam(learning_rate=0.001), loss='mse')"
   ]
  },
  {
   "cell_type": "code",
   "execution_count": 15,
   "id": "606ba8c2-372e-4484-afe7-47021d1f994c",
   "metadata": {},
   "outputs": [
    {
     "name": "stdout",
     "output_type": "stream",
     "text": [
      "Epoch 1/50\n",
      "\u001b[1m427/427\u001b[0m \u001b[32m━━━━━━━━━━━━━━━━━━━━\u001b[0m\u001b[37m\u001b[0m \u001b[1m2s\u001b[0m 2ms/step - loss: 0.1488\n",
      "Epoch 2/50\n",
      "\u001b[1m427/427\u001b[0m \u001b[32m━━━━━━━━━━━━━━━━━━━━\u001b[0m\u001b[37m\u001b[0m \u001b[1m1s\u001b[0m 2ms/step - loss: 0.0157\n",
      "Epoch 3/50\n",
      "\u001b[1m427/427\u001b[0m \u001b[32m━━━━━━━━━━━━━━━━━━━━\u001b[0m\u001b[37m\u001b[0m \u001b[1m1s\u001b[0m 2ms/step - loss: 0.0075\n",
      "Epoch 4/50\n",
      "\u001b[1m427/427\u001b[0m \u001b[32m━━━━━━━━━━━━━━━━━━━━\u001b[0m\u001b[37m\u001b[0m \u001b[1m1s\u001b[0m 2ms/step - loss: 0.0045\n",
      "Epoch 5/50\n",
      "\u001b[1m427/427\u001b[0m \u001b[32m━━━━━━━━━━━━━━━━━━━━\u001b[0m\u001b[37m\u001b[0m \u001b[1m1s\u001b[0m 2ms/step - loss: 0.0024\n",
      "Epoch 6/50\n",
      "\u001b[1m427/427\u001b[0m \u001b[32m━━━━━━━━━━━━━━━━━━━━\u001b[0m\u001b[37m\u001b[0m \u001b[1m1s\u001b[0m 2ms/step - loss: 0.0013\n",
      "Epoch 7/50\n",
      "\u001b[1m427/427\u001b[0m \u001b[32m━━━━━━━━━━━━━━━━━━━━\u001b[0m\u001b[37m\u001b[0m \u001b[1m1s\u001b[0m 2ms/step - loss: 0.0010\n",
      "Epoch 8/50\n",
      "\u001b[1m427/427\u001b[0m \u001b[32m━━━━━━━━━━━━━━━━━━━━\u001b[0m\u001b[37m\u001b[0m \u001b[1m1s\u001b[0m 2ms/step - loss: 8.2073e-04\n",
      "Epoch 9/50\n",
      "\u001b[1m427/427\u001b[0m \u001b[32m━━━━━━━━━━━━━━━━━━━━\u001b[0m\u001b[37m\u001b[0m \u001b[1m1s\u001b[0m 2ms/step - loss: 7.4534e-04\n",
      "Epoch 10/50\n",
      "\u001b[1m427/427\u001b[0m \u001b[32m━━━━━━━━━━━━━━━━━━━━\u001b[0m\u001b[37m\u001b[0m \u001b[1m1s\u001b[0m 2ms/step - loss: 6.8722e-04\n",
      "Epoch 11/50\n",
      "\u001b[1m427/427\u001b[0m \u001b[32m━━━━━━━━━━━━━━━━━━━━\u001b[0m\u001b[37m\u001b[0m \u001b[1m1s\u001b[0m 2ms/step - loss: 6.1045e-04\n",
      "Epoch 12/50\n",
      "\u001b[1m427/427\u001b[0m \u001b[32m━━━━━━━━━━━━━━━━━━━━\u001b[0m\u001b[37m\u001b[0m \u001b[1m1s\u001b[0m 2ms/step - loss: 5.3062e-04\n",
      "Epoch 13/50\n",
      "\u001b[1m427/427\u001b[0m \u001b[32m━━━━━━━━━━━━━━━━━━━━\u001b[0m\u001b[37m\u001b[0m \u001b[1m1s\u001b[0m 2ms/step - loss: 4.9386e-04\n",
      "Epoch 14/50\n",
      "\u001b[1m427/427\u001b[0m \u001b[32m━━━━━━━━━━━━━━━━━━━━\u001b[0m\u001b[37m\u001b[0m \u001b[1m1s\u001b[0m 2ms/step - loss: 4.1332e-04\n",
      "Epoch 15/50\n",
      "\u001b[1m427/427\u001b[0m \u001b[32m━━━━━━━━━━━━━━━━━━━━\u001b[0m\u001b[37m\u001b[0m \u001b[1m1s\u001b[0m 2ms/step - loss: 3.8017e-04\n",
      "Epoch 16/50\n",
      "\u001b[1m427/427\u001b[0m \u001b[32m━━━━━━━━━━━━━━━━━━━━\u001b[0m\u001b[37m\u001b[0m \u001b[1m1s\u001b[0m 2ms/step - loss: 3.2750e-04\n",
      "Epoch 17/50\n",
      "\u001b[1m427/427\u001b[0m \u001b[32m━━━━━━━━━━━━━━━━━━━━\u001b[0m\u001b[37m\u001b[0m \u001b[1m1s\u001b[0m 2ms/step - loss: 2.7362e-04\n",
      "Epoch 18/50\n",
      "\u001b[1m427/427\u001b[0m \u001b[32m━━━━━━━━━━━━━━━━━━━━\u001b[0m\u001b[37m\u001b[0m \u001b[1m1s\u001b[0m 2ms/step - loss: 2.7298e-04\n",
      "Epoch 19/50\n",
      "\u001b[1m427/427\u001b[0m \u001b[32m━━━━━━━━━━━━━━━━━━━━\u001b[0m\u001b[37m\u001b[0m \u001b[1m1s\u001b[0m 2ms/step - loss: 2.7141e-04\n",
      "Epoch 20/50\n",
      "\u001b[1m427/427\u001b[0m \u001b[32m━━━━━━━━━━━━━━━━━━━━\u001b[0m\u001b[37m\u001b[0m \u001b[1m1s\u001b[0m 2ms/step - loss: 2.5422e-04\n",
      "Epoch 21/50\n",
      "\u001b[1m427/427\u001b[0m \u001b[32m━━━━━━━━━━━━━━━━━━━━\u001b[0m\u001b[37m\u001b[0m \u001b[1m1s\u001b[0m 2ms/step - loss: 2.4905e-04\n",
      "Epoch 22/50\n",
      "\u001b[1m427/427\u001b[0m \u001b[32m━━━━━━━━━━━━━━━━━━━━\u001b[0m\u001b[37m\u001b[0m \u001b[1m1s\u001b[0m 2ms/step - loss: 2.4382e-04\n",
      "Epoch 23/50\n",
      "\u001b[1m427/427\u001b[0m \u001b[32m━━━━━━━━━━━━━━━━━━━━\u001b[0m\u001b[37m\u001b[0m \u001b[1m1s\u001b[0m 2ms/step - loss: 2.2130e-04\n",
      "Epoch 24/50\n",
      "\u001b[1m427/427\u001b[0m \u001b[32m━━━━━━━━━━━━━━━━━━━━\u001b[0m\u001b[37m\u001b[0m \u001b[1m1s\u001b[0m 2ms/step - loss: 2.2129e-04\n",
      "Epoch 25/50\n",
      "\u001b[1m427/427\u001b[0m \u001b[32m━━━━━━━━━━━━━━━━━━━━\u001b[0m\u001b[37m\u001b[0m \u001b[1m1s\u001b[0m 2ms/step - loss: 1.9962e-04\n",
      "Epoch 26/50\n",
      "\u001b[1m427/427\u001b[0m \u001b[32m━━━━━━━━━━━━━━━━━━━━\u001b[0m\u001b[37m\u001b[0m \u001b[1m1s\u001b[0m 2ms/step - loss: 1.7996e-04\n",
      "Epoch 27/50\n",
      "\u001b[1m427/427\u001b[0m \u001b[32m━━━━━━━━━━━━━━━━━━━━\u001b[0m\u001b[37m\u001b[0m \u001b[1m1s\u001b[0m 2ms/step - loss: 1.7258e-04\n",
      "Epoch 28/50\n",
      "\u001b[1m427/427\u001b[0m \u001b[32m━━━━━━━━━━━━━━━━━━━━\u001b[0m\u001b[37m\u001b[0m \u001b[1m1s\u001b[0m 2ms/step - loss: 1.7554e-04\n",
      "Epoch 29/50\n",
      "\u001b[1m427/427\u001b[0m \u001b[32m━━━━━━━━━━━━━━━━━━━━\u001b[0m\u001b[37m\u001b[0m \u001b[1m1s\u001b[0m 2ms/step - loss: 1.6768e-04\n",
      "Epoch 30/50\n",
      "\u001b[1m427/427\u001b[0m \u001b[32m━━━━━━━━━━━━━━━━━━━━\u001b[0m\u001b[37m\u001b[0m \u001b[1m1s\u001b[0m 2ms/step - loss: 1.5606e-04\n",
      "Epoch 31/50\n",
      "\u001b[1m427/427\u001b[0m \u001b[32m━━━━━━━━━━━━━━━━━━━━\u001b[0m\u001b[37m\u001b[0m \u001b[1m1s\u001b[0m 2ms/step - loss: 1.5367e-04\n",
      "Epoch 32/50\n",
      "\u001b[1m427/427\u001b[0m \u001b[32m━━━━━━━━━━━━━━━━━━━━\u001b[0m\u001b[37m\u001b[0m \u001b[1m1s\u001b[0m 2ms/step - loss: 1.4471e-04\n",
      "Epoch 33/50\n",
      "\u001b[1m427/427\u001b[0m \u001b[32m━━━━━━━━━━━━━━━━━━━━\u001b[0m\u001b[37m\u001b[0m \u001b[1m1s\u001b[0m 2ms/step - loss: 1.4839e-04\n",
      "Epoch 34/50\n",
      "\u001b[1m427/427\u001b[0m \u001b[32m━━━━━━━━━━━━━━━━━━━━\u001b[0m\u001b[37m\u001b[0m \u001b[1m1s\u001b[0m 2ms/step - loss: 1.1287e-04\n",
      "Epoch 35/50\n",
      "\u001b[1m427/427\u001b[0m \u001b[32m━━━━━━━━━━━━━━━━━━━━\u001b[0m\u001b[37m\u001b[0m \u001b[1m1s\u001b[0m 2ms/step - loss: 1.2025e-04\n",
      "Epoch 36/50\n",
      "\u001b[1m427/427\u001b[0m \u001b[32m━━━━━━━━━━━━━━━━━━━━\u001b[0m\u001b[37m\u001b[0m \u001b[1m1s\u001b[0m 2ms/step - loss: 1.0293e-04\n",
      "Epoch 37/50\n",
      "\u001b[1m427/427\u001b[0m \u001b[32m━━━━━━━━━━━━━━━━━━━━\u001b[0m\u001b[37m\u001b[0m \u001b[1m1s\u001b[0m 2ms/step - loss: 8.5931e-05\n",
      "Epoch 38/50\n",
      "\u001b[1m427/427\u001b[0m \u001b[32m━━━━━━━━━━━━━━━━━━━━\u001b[0m\u001b[37m\u001b[0m \u001b[1m1s\u001b[0m 2ms/step - loss: 8.7242e-05\n",
      "Epoch 39/50\n",
      "\u001b[1m427/427\u001b[0m \u001b[32m━━━━━━━━━━━━━━━━━━━━\u001b[0m\u001b[37m\u001b[0m \u001b[1m1s\u001b[0m 2ms/step - loss: 8.3335e-05\n",
      "Epoch 40/50\n",
      "\u001b[1m427/427\u001b[0m \u001b[32m━━━━━━━━━━━━━━━━━━━━\u001b[0m\u001b[37m\u001b[0m \u001b[1m1s\u001b[0m 2ms/step - loss: 8.5139e-05\n",
      "Epoch 41/50\n",
      "\u001b[1m427/427\u001b[0m \u001b[32m━━━━━━━━━━━━━━━━━━━━\u001b[0m\u001b[37m\u001b[0m \u001b[1m1s\u001b[0m 2ms/step - loss: 8.4830e-05\n",
      "Epoch 42/50\n",
      "\u001b[1m427/427\u001b[0m \u001b[32m━━━━━━━━━━━━━━━━━━━━\u001b[0m\u001b[37m\u001b[0m \u001b[1m1s\u001b[0m 2ms/step - loss: 7.0106e-05\n",
      "Epoch 43/50\n",
      "\u001b[1m427/427\u001b[0m \u001b[32m━━━━━━━━━━━━━━━━━━━━\u001b[0m\u001b[37m\u001b[0m \u001b[1m1s\u001b[0m 2ms/step - loss: 7.1820e-05\n",
      "Epoch 44/50\n",
      "\u001b[1m427/427\u001b[0m \u001b[32m━━━━━━━━━━━━━━━━━━━━\u001b[0m\u001b[37m\u001b[0m \u001b[1m1s\u001b[0m 2ms/step - loss: 6.7185e-05\n",
      "Epoch 45/50\n",
      "\u001b[1m427/427\u001b[0m \u001b[32m━━━━━━━━━━━━━━━━━━━━\u001b[0m\u001b[37m\u001b[0m \u001b[1m1s\u001b[0m 2ms/step - loss: 7.5492e-05\n",
      "Epoch 46/50\n",
      "\u001b[1m427/427\u001b[0m \u001b[32m━━━━━━━━━━━━━━━━━━━━\u001b[0m\u001b[37m\u001b[0m \u001b[1m1s\u001b[0m 2ms/step - loss: 6.7536e-05\n",
      "Epoch 47/50\n",
      "\u001b[1m427/427\u001b[0m \u001b[32m━━━━━━━━━━━━━━━━━━━━\u001b[0m\u001b[37m\u001b[0m \u001b[1m1s\u001b[0m 2ms/step - loss: 6.1318e-05\n",
      "Epoch 48/50\n",
      "\u001b[1m427/427\u001b[0m \u001b[32m━━━━━━━━━━━━━━━━━━━━\u001b[0m\u001b[37m\u001b[0m \u001b[1m1s\u001b[0m 2ms/step - loss: 6.0929e-05\n",
      "Epoch 49/50\n",
      "\u001b[1m427/427\u001b[0m \u001b[32m━━━━━━━━━━━━━━━━━━━━\u001b[0m\u001b[37m\u001b[0m \u001b[1m1s\u001b[0m 2ms/step - loss: 6.4427e-05\n",
      "Epoch 50/50\n",
      "\u001b[1m427/427\u001b[0m \u001b[32m━━━━━━━━━━━━━━━━━━━━\u001b[0m\u001b[37m\u001b[0m \u001b[1m1s\u001b[0m 1ms/step - loss: 6.4566e-05\n"
     ]
    },
    {
     "data": {
      "text/plain": [
       "<keras.src.callbacks.history.History at 0x173aa1b2390>"
      ]
     },
     "execution_count": 15,
     "metadata": {},
     "output_type": "execute_result"
    }
   ],
   "source": [
    "autoencoder.fit(data_scaled, data_scaled, epochs=50, batch_size=64, verbose=1)"
   ]
  },
  {
   "cell_type": "code",
   "execution_count": 16,
   "id": "81055d79-0b9e-4244-ac71-9519d5fb405c",
   "metadata": {},
   "outputs": [
    {
     "name": "stdout",
     "output_type": "stream",
     "text": [
      "\u001b[1m853/853\u001b[0m \u001b[32m━━━━━━━━━━━━━━━━━━━━\u001b[0m\u001b[37m\u001b[0m \u001b[1m1s\u001b[0m 2ms/step\n"
     ]
    }
   ],
   "source": [
    "encoded_data = encoder.predict(data_scaled)"
   ]
  },
  {
   "cell_type": "code",
   "execution_count": 28,
   "id": "575ae875-e9dd-4785-9f46-07baa0ebd0b9",
   "metadata": {},
   "outputs": [
    {
     "name": "stdout",
     "output_type": "stream",
     "text": [
      "✅ Your dataset already has 27265 rows. No need to generate synthetic data.\n",
      "📁 File saved as 'augmented_data_25000.csv'\n"
     ]
    },
    {
     "ename": "SystemExit",
     "evalue": "",
     "output_type": "error",
     "traceback": [
      "An exception has occurred, use %tb to see the full traceback.\n",
      "\u001b[1;31mSystemExit\u001b[0m\n"
     ]
    },
    {
     "name": "stderr",
     "output_type": "stream",
     "text": [
      "C:\\Users\\meera\\AppData\\Local\\Programs\\Python\\Python312\\Lib\\site-packages\\IPython\\core\\interactiveshell.py:3585: UserWarning: To exit: use 'exit', 'quit', or Ctrl-D.\n",
      "  warn(\"To exit: use 'exit', 'quit', or Ctrl-D.\", stacklevel=1)\n"
     ]
    }
   ],
   "source": [
    "samples_to_generate = 25000 - data_scaled.shape[0]\n",
    "\n",
    "if samples_to_generate <= 0:\n",
    "    print(f\"✅ Your dataset already has {data_scaled.shape[0]} rows. No need to generate synthetic data.\")\n",
    "\n",
    "    # Save the original dataset as final output\n",
    "    final_df = numeric_features.copy()\n",
    "    final_df[label_column] = labels\n",
    "    final_df.to_csv(\"augmented_data_25000.csv\", index=False)\n",
    "    print(\"📁 File saved as 'augmented_data_25000.csv'\")\n",
    "    # If you're in a script, exit here. If in notebook, use return or skip rest of code\n",
    "    import sys\n",
    "    sys.exit()\n"
   ]
  },
  {
   "cell_type": "code",
   "execution_count": 29,
   "id": "778b7022-75a9-4acd-9e7b-928f068ced13",
   "metadata": {},
   "outputs": [],
   "source": [
    "samples_to_generate = 200000 - data_scaled.shape[0]\n",
    "synthetic_encoded = []\n",
    "\n",
    "for _ in range(samples_to_generate):\n",
    "    idx = np.random.randint(0, data_scaled.shape[0])\n",
    "    noise = np.random.normal(loc=0.0, scale=0.05, size=encoding_dim)\n",
    "    new_encoded = encoded_data[idx] + noise\n",
    "\n",
    "    # 🔥 FIX: sanitize latent space values\n",
    "    new_encoded = np.nan_to_num(new_encoded, nan=0.0, posinf=1.0, neginf=0.0)\n",
    "\n",
    "    synthetic_encoded.append(new_encoded)\n",
    "\n",
    "synthetic_encoded = np.array(synthetic_encoded)"
   ]
  },
  {
   "cell_type": "code",
   "execution_count": 30,
   "id": "e9858694-b64d-4dfa-8a26-35fdfcc51d29",
   "metadata": {},
   "outputs": [
    {
     "name": "stdout",
     "output_type": "stream",
     "text": [
      "Shape of synthetic_encoded: (172735, 16)\n",
      "Any NaN: False\n",
      "Any Inf: False\n",
      "Max: 7.625360511795518\n",
      "Min: -0.22759519110750281\n"
     ]
    }
   ],
   "source": [
    "print(\"Shape of synthetic_encoded:\", synthetic_encoded.shape)\n",
    "print(\"Any NaN:\", np.any(np.isnan(synthetic_encoded)))\n",
    "print(\"Any Inf:\", np.any(np.isinf(synthetic_encoded)))\n",
    "print(\"Max:\", np.max(synthetic_encoded))\n",
    "print(\"Min:\", np.min(synthetic_encoded))"
   ]
  },
  {
   "cell_type": "code",
   "execution_count": 32,
   "id": "ed6a223b-3d1f-4f33-81c0-990401a98514",
   "metadata": {},
   "outputs": [
    {
     "name": "stdout",
     "output_type": "stream",
     "text": [
      "\u001b[1m5398/5398\u001b[0m \u001b[32m━━━━━━━━━━━━━━━━━━━━\u001b[0m\u001b[37m\u001b[0m \u001b[1m8s\u001b[0m 1ms/step\n"
     ]
    }
   ],
   "source": [
    "encoded_input = Input(shape=(encoding_dim,))\n",
    "decoder_layer = autoencoder.layers[-1]\n",
    "decoder = Model(encoded_input, decoder_layer(encoded_input))\n",
    "\n",
    "synthetic_decoded = decoder.predict(synthetic_encoded)\n",
    "synthetic_decoded = np.clip(synthetic_decoded, 0.0, 1.0)\n",
    "synthetic_data = scaler.inverse_transform(synthetic_decoded)\n",
    "synthetic_df = pd.DataFrame(synthetic_data, columns=numeric_features.columns)"
   ]
  },
  {
   "cell_type": "code",
   "execution_count": 37,
   "id": "98d35fe6-c802-4c57-8fc0-7db4cc784720",
   "metadata": {},
   "outputs": [],
   "source": [
    "synthetic_df[label_column] = 'BENIGN'"
   ]
  },
  {
   "cell_type": "code",
   "execution_count": 38,
   "id": "50160a96-96f6-4164-b048-75dce9b9dc52",
   "metadata": {},
   "outputs": [],
   "source": [
    "original_df = numeric_features.copy()\n",
    "original_df[label_column] = labels\n",
    "\n",
    "final_df = pd.concat([original_df, synthetic_df], ignore_index=True)"
   ]
  },
  {
   "cell_type": "code",
   "execution_count": 39,
   "id": "04843370-6a27-488e-b233-658b8492832c",
   "metadata": {},
   "outputs": [
    {
     "name": "stdout",
     "output_type": "stream",
     "text": [
      "✅ Final augmented dataset saved as 'augmented_data_200000.csv'\n"
     ]
    }
   ],
   "source": [
    "final_df.to_csv(\"augmented_data_200000.csv\", index=False)\n",
    "print(\"✅ Final augmented dataset saved as 'augmented_data_200000.csv'\")"
   ]
  },
  {
   "cell_type": "code",
   "execution_count": 40,
   "id": "15652873-7409-4c00-8b28-6cdfc8d0ff43",
   "metadata": {},
   "outputs": [
    {
     "name": "stdout",
     "output_type": "stream",
     "text": [
      "🔍 Shape of the dataset: (200000, 33)\n",
      "\n",
      "📄 Sample Data:\n",
      "   Flow Duration  Flow Bytes/s  Flow Packets/s  Total Fwd Packets  \\\n",
      "0    110861755.0     12.484017        0.469053               26.0   \n",
      "1     40335006.0      1.735465        0.471055                9.0   \n",
      "2    113244633.0      0.000000        0.494505               56.0   \n",
      "3     95628949.0      0.209142        0.428740               21.0   \n",
      "4     95613243.0      0.209176        0.428811               21.0   \n",
      "\n",
      "   Total Backward Packets  Total Length of Fwd Packets  \\\n",
      "0                    26.0                        616.0   \n",
      "1                    10.0                          8.0   \n",
      "2                     0.0                          0.0   \n",
      "3                    20.0                         20.0   \n",
      "4                    20.0                         20.0   \n",
      "\n",
      "   Total Length of Bwd Packets  Fwd Packet Length Mean  \\\n",
      "0                        768.0               23.692308   \n",
      "1                         62.0                0.888889   \n",
      "2                          0.0                0.000000   \n",
      "3                          0.0                0.952381   \n",
      "4                          0.0                0.952381   \n",
      "\n",
      "   Bwd Packet Length Mean  Max Packet Length  ...  Subflow Bwd Packets  \\\n",
      "0               29.538462              384.0  ...                 26.0   \n",
      "1                6.200000               31.0  ...                 10.0   \n",
      "2                0.000000                0.0  ...                  0.0   \n",
      "3                0.000000                1.0  ...                 20.0   \n",
      "4                0.000000                1.0  ...                 20.0   \n",
      "\n",
      "   Subflow Fwd Bytes  Subflow Bwd Bytes  Init_Win_bytes_forward  \\\n",
      "0              616.0              768.0                 16329.0   \n",
      "1                8.0               62.0                 63979.0   \n",
      "2                0.0                0.0                    -1.0   \n",
      "3               20.0                0.0                 16209.0   \n",
      "4               20.0                0.0                 16383.0   \n",
      "\n",
      "   Init_Win_bytes_backward    Active Mean     Active Std     Idle Mean  \\\n",
      "0                    245.0  198805.454545   64223.338986  9.863210e+06   \n",
      "1                  31320.0   90226.500000      43.554563  9.993447e+06   \n",
      "2                     -1.0  248176.750000  859690.585416  9.188876e+06   \n",
      "3                    237.0   14901.222222     177.422362  1.001418e+07   \n",
      "4                    250.0   26508.333333      17.902514  1.000431e+07   \n",
      "\n",
      "        Idle Std   Label  \n",
      "0  413171.813769  BENIGN  \n",
      "1   40495.753715  BENIGN  \n",
      "2  809901.667647  BENIGN  \n",
      "3    5184.077926  BENIGN  \n",
      "4      21.430119  BENIGN  \n",
      "\n",
      "[5 rows x 33 columns]\n",
      "\n",
      "🔎 Null values per column:\n",
      "Flow Duration                  0\n",
      "Flow Bytes/s                   0\n",
      "Flow Packets/s                 0\n",
      "Total Fwd Packets              0\n",
      "Total Backward Packets         0\n",
      "Total Length of Fwd Packets    0\n",
      "Total Length of Bwd Packets    0\n",
      "Fwd Packet Length Mean         0\n",
      "Bwd Packet Length Mean         0\n",
      "Max Packet Length              0\n",
      "Min Packet Length              0\n",
      "Packet Length Std              0\n",
      "Flow IAT Mean                  0\n",
      "Flow IAT Std                   0\n",
      "Flow IAT Max                   0\n",
      "Flow IAT Min                   0\n",
      "SYN Flag Count                 0\n",
      "ACK Flag Count                 0\n",
      "RST Flag Count                 0\n",
      "PSH Flag Count                 0\n",
      "FIN Flag Count                 0\n",
      "URG Flag Count                 0\n",
      "Subflow Fwd Packets            0\n",
      "Subflow Bwd Packets            0\n",
      "Subflow Fwd Bytes              0\n",
      "Subflow Bwd Bytes              0\n",
      "Init_Win_bytes_forward         0\n",
      "Init_Win_bytes_backward        0\n",
      "Active Mean                    0\n",
      "Active Std                     0\n",
      "Idle Mean                      0\n",
      "Idle Std                       0\n",
      "Label                          0\n",
      "dtype: int64\n",
      "\n",
      "🏷️ Unique labels and their counts:\n",
      "Label\n",
      "BENIGN    200000\n",
      "Name: count, dtype: int64\n"
     ]
    }
   ],
   "source": [
    "import pandas as pd\n",
    "\n",
    "# 📥 Load the augmented dataset\n",
    "df_augmented = pd.read_csv(\"augmented_data_200000.csv\")\n",
    "\n",
    "# 📐 Check the shape (rows, columns)\n",
    "print(\"🔍 Shape of the dataset:\", df_augmented.shape)\n",
    "\n",
    "# 👀 Preview first few rows\n",
    "print(\"\\n📄 Sample Data:\")\n",
    "print(df_augmented.head())\n",
    "\n",
    "# 📊 Check if there are any missing/null values\n",
    "print(\"\\n🔎 Null values per column:\")\n",
    "print(df_augmented.isnull().sum())\n",
    "\n",
    "# 🔎 Check unique values in the label column\n",
    "print(\"\\n🏷️ Unique labels and their counts:\")\n",
    "print(df_augmented['Label'].value_counts())\n"
   ]
  },
  {
   "cell_type": "code",
   "execution_count": null,
   "id": "c5f1af03-53ae-4d72-843e-207c702534c2",
   "metadata": {},
   "outputs": [],
   "source": []
  }
 ],
 "metadata": {
  "kernelspec": {
   "display_name": "Python 3 (ipykernel)",
   "language": "python",
   "name": "python3"
  },
  "language_info": {
   "codemirror_mode": {
    "name": "ipython",
    "version": 3
   },
   "file_extension": ".py",
   "mimetype": "text/x-python",
   "name": "python",
   "nbconvert_exporter": "python",
   "pygments_lexer": "ipython3",
   "version": "3.12.4"
  }
 },
 "nbformat": 4,
 "nbformat_minor": 5
}
